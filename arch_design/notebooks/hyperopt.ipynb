{
  "nbformat": 4,
  "nbformat_minor": 0,
  "metadata": {
    "colab": {
      "name": "hyperopt.ipynb",
      "provenance": [],
      "collapsed_sections": []
    },
    "kernelspec": {
      "name": "python3",
      "display_name": "Python 3"
    }
  },
  "cells": [
    {
      "cell_type": "code",
      "metadata": {
        "id": "tIlGvjvmxgYP"
      },
      "source": [
        "import os\n"
      ],
      "execution_count": null,
      "outputs": []
    },
    {
      "cell_type": "code",
      "metadata": {
        "id": "FnpGsPXVHiDc",
        "outputId": "8ad4d4d8-7390-44c6-e394-007b2bf5263d",
        "colab": {
          "base_uri": "https://localhost:8080/",
          "height": 343
        }
      },
      "source": [
        "!pip install catboost"
      ],
      "execution_count": null,
      "outputs": [
        {
          "output_type": "stream",
          "text": [
            "Collecting catboost\n",
            "\u001b[?25l  Downloading https://files.pythonhosted.org/packages/52/39/128fff65072c8327371e3c594f3c826d29c85b21cb6485980353b168e0e4/catboost-0.24.2-cp36-none-manylinux1_x86_64.whl (66.1MB)\n",
            "\u001b[K     |████████████████████████████████| 66.2MB 67kB/s \n",
            "\u001b[?25hRequirement already satisfied: six in /usr/local/lib/python3.6/dist-packages (from catboost) (1.15.0)\n",
            "Requirement already satisfied: graphviz in /usr/local/lib/python3.6/dist-packages (from catboost) (0.10.1)\n",
            "Requirement already satisfied: numpy>=1.16.0 in /usr/local/lib/python3.6/dist-packages (from catboost) (1.18.5)\n",
            "Requirement already satisfied: scipy in /usr/local/lib/python3.6/dist-packages (from catboost) (1.4.1)\n",
            "Requirement already satisfied: matplotlib in /usr/local/lib/python3.6/dist-packages (from catboost) (3.2.2)\n",
            "Requirement already satisfied: pandas>=0.24.0 in /usr/local/lib/python3.6/dist-packages (from catboost) (1.1.2)\n",
            "Requirement already satisfied: plotly in /usr/local/lib/python3.6/dist-packages (from catboost) (4.4.1)\n",
            "Requirement already satisfied: pyparsing!=2.0.4,!=2.1.2,!=2.1.6,>=2.0.1 in /usr/local/lib/python3.6/dist-packages (from matplotlib->catboost) (2.4.7)\n",
            "Requirement already satisfied: cycler>=0.10 in /usr/local/lib/python3.6/dist-packages (from matplotlib->catboost) (0.10.0)\n",
            "Requirement already satisfied: kiwisolver>=1.0.1 in /usr/local/lib/python3.6/dist-packages (from matplotlib->catboost) (1.2.0)\n",
            "Requirement already satisfied: python-dateutil>=2.1 in /usr/local/lib/python3.6/dist-packages (from matplotlib->catboost) (2.8.1)\n",
            "Requirement already satisfied: pytz>=2017.2 in /usr/local/lib/python3.6/dist-packages (from pandas>=0.24.0->catboost) (2018.9)\n",
            "Requirement already satisfied: retrying>=1.3.3 in /usr/local/lib/python3.6/dist-packages (from plotly->catboost) (1.3.3)\n",
            "Installing collected packages: catboost\n",
            "Successfully installed catboost-0.24.2\n"
          ],
          "name": "stdout"
        }
      ]
    },
    {
      "cell_type": "code",
      "metadata": {
        "id": "aVoFy13iwhdJ",
        "outputId": "62378f23-80af-44cd-b8aa-d7426e0511aa",
        "colab": {
          "base_uri": "https://localhost:8080/",
          "height": 190
        }
      },
      "source": [
        "!pip install hyperopt"
      ],
      "execution_count": null,
      "outputs": [
        {
          "output_type": "stream",
          "text": [
            "Requirement already satisfied: hyperopt in /usr/local/lib/python3.6/dist-packages (0.1.2)\n",
            "Requirement already satisfied: six in /usr/local/lib/python3.6/dist-packages (from hyperopt) (1.15.0)\n",
            "Requirement already satisfied: tqdm in /usr/local/lib/python3.6/dist-packages (from hyperopt) (4.41.1)\n",
            "Requirement already satisfied: future in /usr/local/lib/python3.6/dist-packages (from hyperopt) (0.16.0)\n",
            "Requirement already satisfied: numpy in /usr/local/lib/python3.6/dist-packages (from hyperopt) (1.18.5)\n",
            "Requirement already satisfied: scipy in /usr/local/lib/python3.6/dist-packages (from hyperopt) (1.4.1)\n",
            "Requirement already satisfied: networkx in /usr/local/lib/python3.6/dist-packages (from hyperopt) (2.5)\n",
            "Requirement already satisfied: pymongo in /usr/local/lib/python3.6/dist-packages (from hyperopt) (3.11.0)\n",
            "Requirement already satisfied: decorator>=4.3.0 in /usr/local/lib/python3.6/dist-packages (from networkx->hyperopt) (4.4.2)\n"
          ],
          "name": "stdout"
        }
      ]
    },
    {
      "cell_type": "code",
      "metadata": {
        "id": "i1n0xbLuwpwl",
        "outputId": "3312a1bf-d5f5-4cc6-c81b-6a3df4e34b98",
        "colab": {
          "base_uri": "https://localhost:8080/",
          "height": 136
        }
      },
      "source": [
        "!git clone https://github.com/hyperopt/hyperopt-sklearn.git"
      ],
      "execution_count": null,
      "outputs": [
        {
          "output_type": "stream",
          "text": [
            "Cloning into 'hyperopt-sklearn'...\n",
            "remote: Enumerating objects: 13, done.\u001b[K\n",
            "remote: Counting objects: 100% (13/13), done.\u001b[K\n",
            "remote: Compressing objects: 100% (9/9), done.\u001b[K\n",
            "remote: Total 1214 (delta 6), reused 7 (delta 4), pack-reused 1201\u001b[K\n",
            "Receiving objects: 100% (1214/1214), 2.02 MiB | 23.79 MiB/s, done.\n",
            "Resolving deltas: 100% (741/741), done.\n"
          ],
          "name": "stdout"
        }
      ]
    },
    {
      "cell_type": "code",
      "metadata": {
        "id": "gYSvTExMwp3d"
      },
      "source": [
        "os.chdir('/content/hyperopt-sklearn')"
      ],
      "execution_count": null,
      "outputs": []
    },
    {
      "cell_type": "code",
      "metadata": {
        "id": "6qTDLZ90wp7C",
        "outputId": "47569dee-fa0e-428f-b556-3e246863a946",
        "colab": {
          "base_uri": "https://localhost:8080/",
          "height": 411
        }
      },
      "source": [
        "pip install ."
      ],
      "execution_count": null,
      "outputs": [
        {
          "output_type": "stream",
          "text": [
            "Processing /content/hyperopt-sklearn\n",
            "Requirement already satisfied: hyperopt in /usr/local/lib/python3.6/dist-packages (from hpsklearn==0.0.3) (0.1.2)\n",
            "Collecting nose\n",
            "\u001b[?25l  Downloading https://files.pythonhosted.org/packages/15/d8/dd071918c040f50fa1cf80da16423af51ff8ce4a0f2399b7bf8de45ac3d9/nose-1.3.7-py3-none-any.whl (154kB)\n",
            "\u001b[K     |████████████████████████████████| 163kB 2.8MB/s \n",
            "\u001b[?25hRequirement already satisfied: numpy in /usr/local/lib/python3.6/dist-packages (from hpsklearn==0.0.3) (1.18.5)\n",
            "Requirement already satisfied: scikit-learn in /usr/local/lib/python3.6/dist-packages (from hpsklearn==0.0.3) (0.22.2.post1)\n",
            "Requirement already satisfied: scipy in /usr/local/lib/python3.6/dist-packages (from hpsklearn==0.0.3) (1.4.1)\n",
            "Requirement already satisfied: pymongo in /usr/local/lib/python3.6/dist-packages (from hyperopt->hpsklearn==0.0.3) (3.11.0)\n",
            "Requirement already satisfied: tqdm in /usr/local/lib/python3.6/dist-packages (from hyperopt->hpsklearn==0.0.3) (4.41.1)\n",
            "Requirement already satisfied: six in /usr/local/lib/python3.6/dist-packages (from hyperopt->hpsklearn==0.0.3) (1.15.0)\n",
            "Requirement already satisfied: networkx in /usr/local/lib/python3.6/dist-packages (from hyperopt->hpsklearn==0.0.3) (2.5)\n",
            "Requirement already satisfied: future in /usr/local/lib/python3.6/dist-packages (from hyperopt->hpsklearn==0.0.3) (0.16.0)\n",
            "Requirement already satisfied: joblib>=0.11 in /usr/local/lib/python3.6/dist-packages (from scikit-learn->hpsklearn==0.0.3) (0.16.0)\n",
            "Requirement already satisfied: decorator>=4.3.0 in /usr/local/lib/python3.6/dist-packages (from networkx->hyperopt->hpsklearn==0.0.3) (4.4.2)\n",
            "Building wheels for collected packages: hpsklearn\n",
            "  Building wheel for hpsklearn (setup.py) ... \u001b[?25l\u001b[?25hdone\n",
            "  Created wheel for hpsklearn: filename=hpsklearn-0.0.3-cp36-none-any.whl size=26799 sha256=6e7da0f23930fbda1990e7bd1959ee1b18178bb39b7e86c03fd687f61c08f094\n",
            "  Stored in directory: /root/.cache/pip/wheels/1f/5c/17/d32b5ece02683e31bc11e46a750d938007cfc963dba1cbb56b\n",
            "Successfully built hpsklearn\n",
            "Installing collected packages: nose, hpsklearn\n",
            "Successfully installed hpsklearn-0.0.3 nose-1.3.7\n"
          ],
          "name": "stdout"
        }
      ]
    },
    {
      "cell_type": "code",
      "metadata": {
        "id": "Q2ncw4OuwqT-"
      },
      "source": [
        "os.chdir('/content/')"
      ],
      "execution_count": null,
      "outputs": []
    },
    {
      "cell_type": "code",
      "metadata": {
        "id": "cSQ8AELa52BD"
      },
      "source": [
        ""
      ],
      "execution_count": null,
      "outputs": []
    },
    {
      "cell_type": "code",
      "metadata": {
        "id": "yxeu9JDUxyte"
      },
      "source": [
        "import pandas as pd\n",
        "import numpy as np\n",
        "from sklearn.model_selection import train_test_split\n",
        "from sklearn.metrics import accuracy_score\n",
        "#from hpsklearn import HyperoptEstimator\n",
        "#from hpsklearn import any_classifier\n",
        "#from hpsklearn import any_preprocessing\n",
        "#from hyperopt import tpe\n",
        "import matplotlib.pyplot as plt\n",
        "import seaborn as sns\n",
        "import warnings\n",
        "import scipy\n",
        "\n",
        "from xgboost import XGBClassifier\n",
        "from sklearn.metrics import roc_auc_score\n",
        "from sklearn.model_selection import StratifiedKFold, GridSearchCV\n",
        "\n",
        "#Suppressing all warnings\n",
        "warnings.filterwarnings(\"ignore\")\n",
        "\n",
        "%matplotlib inline"
      ],
      "execution_count": null,
      "outputs": []
    },
    {
      "cell_type": "code",
      "metadata": {
        "id": "_Sdd9Pa0xyym"
      },
      "source": [
        "data_df = pd.read_csv('/content/drive/My Drive/heart_failure_dataset.csv')"
      ],
      "execution_count": null,
      "outputs": []
    },
    {
      "cell_type": "markdown",
      "metadata": {
        "id": "sc9KItC44lsG"
      },
      "source": [
        "Sex - Gender of patient Male = 1, Female =0\n",
        "Age - Age of patient\n",
        "Diabetes - 0 = No, 1 = Yes\n",
        "Anaemia - 0 = No, 1 = Yes\n",
        "High_blood_pressure - 0 = No, 1 = Yes\n",
        "Smoking - 0 = No, 1 = Yes\n",
        "DEATH_EVENT - 0 = No, 1 = Yes"
      ]
    },
    {
      "cell_type": "code",
      "metadata": {
        "id": "EpoDKveAxy2p",
        "outputId": "a6f3ef44-2cb9-41a6-f263-da19069b7098",
        "colab": {
          "base_uri": "https://localhost:8080/",
          "height": 204
        }
      },
      "source": [
        "data_df.head()"
      ],
      "execution_count": null,
      "outputs": [
        {
          "output_type": "execute_result",
          "data": {
            "text/html": [
              "<div>\n",
              "<style scoped>\n",
              "    .dataframe tbody tr th:only-of-type {\n",
              "        vertical-align: middle;\n",
              "    }\n",
              "\n",
              "    .dataframe tbody tr th {\n",
              "        vertical-align: top;\n",
              "    }\n",
              "\n",
              "    .dataframe thead th {\n",
              "        text-align: right;\n",
              "    }\n",
              "</style>\n",
              "<table border=\"1\" class=\"dataframe\">\n",
              "  <thead>\n",
              "    <tr style=\"text-align: right;\">\n",
              "      <th></th>\n",
              "      <th>age</th>\n",
              "      <th>anaemia</th>\n",
              "      <th>creat_phos</th>\n",
              "      <th>diabetes</th>\n",
              "      <th>eject_fract</th>\n",
              "      <th>hbp</th>\n",
              "      <th>platelets</th>\n",
              "      <th>ser_creat</th>\n",
              "      <th>ser_sod</th>\n",
              "      <th>sex</th>\n",
              "      <th>smoking</th>\n",
              "      <th>DEATH_EVENT</th>\n",
              "    </tr>\n",
              "  </thead>\n",
              "  <tbody>\n",
              "    <tr>\n",
              "      <th>0</th>\n",
              "      <td>75.0</td>\n",
              "      <td>0</td>\n",
              "      <td>582</td>\n",
              "      <td>0</td>\n",
              "      <td>20</td>\n",
              "      <td>1</td>\n",
              "      <td>265000.00</td>\n",
              "      <td>1.9</td>\n",
              "      <td>130</td>\n",
              "      <td>1</td>\n",
              "      <td>0</td>\n",
              "      <td>1</td>\n",
              "    </tr>\n",
              "    <tr>\n",
              "      <th>1</th>\n",
              "      <td>55.0</td>\n",
              "      <td>0</td>\n",
              "      <td>7861</td>\n",
              "      <td>0</td>\n",
              "      <td>38</td>\n",
              "      <td>0</td>\n",
              "      <td>263358.03</td>\n",
              "      <td>1.1</td>\n",
              "      <td>136</td>\n",
              "      <td>1</td>\n",
              "      <td>0</td>\n",
              "      <td>1</td>\n",
              "    </tr>\n",
              "    <tr>\n",
              "      <th>2</th>\n",
              "      <td>65.0</td>\n",
              "      <td>0</td>\n",
              "      <td>146</td>\n",
              "      <td>0</td>\n",
              "      <td>20</td>\n",
              "      <td>0</td>\n",
              "      <td>162000.00</td>\n",
              "      <td>1.3</td>\n",
              "      <td>129</td>\n",
              "      <td>1</td>\n",
              "      <td>1</td>\n",
              "      <td>1</td>\n",
              "    </tr>\n",
              "    <tr>\n",
              "      <th>3</th>\n",
              "      <td>50.0</td>\n",
              "      <td>1</td>\n",
              "      <td>111</td>\n",
              "      <td>0</td>\n",
              "      <td>20</td>\n",
              "      <td>0</td>\n",
              "      <td>210000.00</td>\n",
              "      <td>1.9</td>\n",
              "      <td>137</td>\n",
              "      <td>1</td>\n",
              "      <td>0</td>\n",
              "      <td>1</td>\n",
              "    </tr>\n",
              "    <tr>\n",
              "      <th>4</th>\n",
              "      <td>65.0</td>\n",
              "      <td>1</td>\n",
              "      <td>160</td>\n",
              "      <td>1</td>\n",
              "      <td>20</td>\n",
              "      <td>0</td>\n",
              "      <td>327000.00</td>\n",
              "      <td>2.7</td>\n",
              "      <td>116</td>\n",
              "      <td>0</td>\n",
              "      <td>0</td>\n",
              "      <td>1</td>\n",
              "    </tr>\n",
              "  </tbody>\n",
              "</table>\n",
              "</div>"
            ],
            "text/plain": [
              "    age  anaemia  creat_phos  diabetes  ...  ser_sod  sex  smoking  DEATH_EVENT\n",
              "0  75.0        0         582         0  ...      130    1        0            1\n",
              "1  55.0        0        7861         0  ...      136    1        0            1\n",
              "2  65.0        0         146         0  ...      129    1        1            1\n",
              "3  50.0        1         111         0  ...      137    1        0            1\n",
              "4  65.0        1         160         1  ...      116    0        0            1\n",
              "\n",
              "[5 rows x 12 columns]"
            ]
          },
          "metadata": {
            "tags": []
          },
          "execution_count": 9
        }
      ]
    },
    {
      "cell_type": "code",
      "metadata": {
        "id": "zZacLL9KBoNQ",
        "outputId": "7c9befe3-d15f-403e-c745-185d2d75c306",
        "colab": {
          "base_uri": "https://localhost:8080/",
          "height": 929
        }
      },
      "source": [
        "corr = data_df.corr()\n",
        "ax, fig = plt.subplots(figsize=(15,15))\n",
        "sns.heatmap(corr, vmin=-1, cmap='coolwarm', annot=True)\n",
        "plt.show()"
      ],
      "execution_count": null,
      "outputs": [
        {
          "output_type": "display_data",
          "data": {
            "image/png": "[encoded data removed]",
            "text/plain": [
              "<Figure size 1080x1080 with 2 Axes>"
            ]
          },
          "metadata": {
            "tags": [],
            "needs_background": "light"
          }
        }
      ]
    },
    {
      "cell_type": "code",
      "metadata": {
        "id": "eWCmT8xvxy6g"
      },
      "source": [
        "X = data_df.drop(['DEATH_EVENT'], axis =1)\n",
        "y = data_df['DEATH_EVENT']"
      ],
      "execution_count": null,
      "outputs": []
    },
    {
      "cell_type": "code",
      "metadata": {
        "id": "Cu176OYyxy-O"
      },
      "source": [
        "X_train, X_test, y_train, y_test = train_test_split(X, y, test_size = 0.25, random_state=101)"
      ],
      "execution_count": null,
      "outputs": []
    },
    {
      "cell_type": "code",
      "metadata": {
        "id": "GgSqtaVQxzBb"
      },
      "source": [
        "model = HyperoptEstimator(classifier = any_classifier('cla'),\n",
        "                          preprocessing = any_preprocessing('pre'),\n",
        "                          algo = tpe.suggest,\n",
        "                          max_evals = 50,\n",
        "                          trial_timeout = 30)"
      ],
      "execution_count": null,
      "outputs": []
    },
    {
      "cell_type": "code",
      "metadata": {
        "id": "uvQVBwiA887G",
        "outputId": "1b97dd81-62cc-4357-d2c8-fa85502dea71",
        "colab": {
          "base_uri": "https://localhost:8080/",
          "height": 1000
        }
      },
      "source": [
        "model.fit(X_train, y_train)"
      ],
      "execution_count": null,
      "outputs": [
        {
          "output_type": "stream",
          "text": [
            "100%|██████████| 1/1 [00:00<00:00, 11.56it/s, best loss: 0.6]\n",
            "100%|██████████| 1/1 [00:00<00:00, 12.66it/s, best loss: 0.24444444444444446]\n",
            "100%|██████████| 1/1 [00:00<00:00, 13.04it/s, best loss: 0.24444444444444446]\n",
            "100%|██████████| 1/1 [00:00<00:00, 12.25it/s, best loss: 0.24444444444444446]\n",
            "100%|██████████| 1/1 [00:00<00:00,  1.05it/s, best loss: 0.24444444444444446]\n",
            "  0%|          | 0/1 [00:00<?, ?it/s, best loss: ?]"
          ],
          "name": "stdout"
        },
        {
          "output_type": "stream",
          "text": [
            "/usr/local/lib/python3.6/dist-packages/sklearn/ensemble/_gb.py:1342: FutureWarning: The parameter 'presort' is deprecated and has no effect. It will be removed in v0.24. You can suppress this warning by not passing any value to the 'presort' parameter. We also recommend using HistGradientBoosting models instead.\n",
            "  FutureWarning)\n",
            "\n"
          ],
          "name": "stderr"
        },
        {
          "output_type": "stream",
          "text": [
            "100%|██████████| 1/1 [00:00<00:00,  3.94it/s, best loss: 0.24444444444444446]\n",
            "  0%|          | 0/1 [00:00<?, ?it/s, best loss: ?]"
          ],
          "name": "stdout"
        },
        {
          "output_type": "stream",
          "text": [
            "/usr/local/lib/python3.6/dist-packages/sklearn/ensemble/_gb.py:1342: FutureWarning: The parameter 'presort' is deprecated and has no effect. It will be removed in v0.24. You can suppress this warning by not passing any value to the 'presort' parameter. We also recommend using HistGradientBoosting models instead.\n",
            "  FutureWarning)\n",
            "\n"
          ],
          "name": "stderr"
        },
        {
          "output_type": "stream",
          "text": [
            "100%|██████████| 1/1 [00:00<00:00,  5.89it/s, best loss: 0.24444444444444446]\n",
            "100%|██████████| 1/1 [00:00<00:00, 11.17it/s, best loss: 0.24444444444444446]\n",
            "  0%|          | 0/1 [00:00<?, ?it/s, best loss: ?]"
          ],
          "name": "stdout"
        },
        {
          "output_type": "stream",
          "text": [
            "/usr/local/lib/python3.6/dist-packages/sklearn/ensemble/_gb.py:1342: FutureWarning: The parameter 'presort' is deprecated and has no effect. It will be removed in v0.24. You can suppress this warning by not passing any value to the 'presort' parameter. We also recommend using HistGradientBoosting models instead.\n",
            "  FutureWarning)\n",
            "\n"
          ],
          "name": "stderr"
        },
        {
          "output_type": "stream",
          "text": [
            "100%|██████████| 1/1 [00:00<00:00,  1.87it/s, best loss: 0.2222222222222222]\n",
            "100%|██████████| 1/1 [00:00<00:00, 11.54it/s, best loss: 0.2222222222222222]\n",
            "100%|██████████| 1/1 [00:00<00:00, 12.24it/s, best loss: 0.2222222222222222]\n",
            "100%|██████████| 1/1 [00:00<00:00,  2.20it/s, best loss: 0.1777777777777778]\n",
            "100%|██████████| 1/1 [00:00<00:00,  8.53it/s, best loss: 0.1777777777777778]\n",
            "  0%|          | 0/1 [00:00<?, ?it/s, best loss: ?]"
          ],
          "name": "stdout"
        },
        {
          "output_type": "stream",
          "text": [
            "/usr/local/lib/python3.6/dist-packages/sklearn/ensemble/_gb.py:1342: FutureWarning: The parameter 'presort' is deprecated and has no effect. It will be removed in v0.24. You can suppress this warning by not passing any value to the 'presort' parameter. We also recommend using HistGradientBoosting models instead.\n",
            "  FutureWarning)\n",
            "\n"
          ],
          "name": "stderr"
        },
        {
          "output_type": "stream",
          "text": [
            "100%|██████████| 1/1 [00:00<00:00,  1.87it/s, best loss: 0.1777777777777778]\n",
            "100%|██████████| 1/1 [00:00<00:00,  2.63it/s, best loss: 0.1777777777777778]\n",
            "100%|██████████| 1/1 [00:00<00:00, 11.91it/s, best loss: 0.1777777777777778]\n",
            "100%|██████████| 1/1 [00:00<00:00,  5.23it/s, best loss: 0.1777777777777778]\n",
            "100%|██████████| 1/1 [00:00<00:00, 11.87it/s, best loss: 0.1777777777777778]\n",
            "100%|██████████| 1/1 [00:00<00:00,  5.93it/s, best loss: 0.1777777777777778]\n",
            "100%|██████████| 1/1 [00:00<00:00, 11.96it/s, best loss: 0.1777777777777778]\n",
            "100%|██████████| 1/1 [00:02<00:00,  2.30s/it, best loss: 0.1777777777777778]\n",
            "100%|██████████| 1/1 [00:00<00:00,  2.30it/s, best loss: 0.1777777777777778]\n",
            "100%|██████████| 1/1 [00:01<00:00,  1.59s/it, best loss: 0.1777777777777778]\n",
            "100%|██████████| 1/1 [00:03<00:00,  3.37s/it, best loss: 0.1777777777777778]\n",
            "100%|██████████| 1/1 [00:00<00:00,  1.56it/s, best loss: 0.1777777777777778]\n",
            "100%|██████████| 1/1 [00:30<00:00, 30.16s/it, best loss: 0.1777777777777778]\n",
            "100%|██████████| 1/1 [00:04<00:00,  4.53s/it, best loss: 0.1777777777777778]\n",
            "100%|██████████| 1/1 [00:00<00:00,  1.54it/s, best loss: 0.1777777777777778]\n",
            "100%|██████████| 1/1 [00:00<00:00,  3.79it/s, best loss: 0.1777777777777778]\n",
            "100%|██████████| 1/1 [00:00<00:00,  2.85it/s, best loss: 0.1777777777777778]\n",
            "100%|██████████| 1/1 [00:00<00:00,  5.26it/s, best loss: 0.1777777777777778]\n",
            "100%|██████████| 1/1 [00:01<00:00,  1.03s/it, best loss: 0.1777777777777778]\n",
            "100%|██████████| 1/1 [00:00<00:00,  3.89it/s, best loss: 0.1777777777777778]\n",
            "100%|██████████| 1/1 [00:00<00:00,  5.72it/s, best loss: 0.1777777777777778]\n",
            "100%|██████████| 1/1 [00:00<00:00,  1.67it/s, best loss: 0.1777777777777778]\n",
            "100%|██████████| 1/1 [00:00<00:00,  4.20it/s, best loss: 0.1777777777777778]\n",
            "100%|██████████| 1/1 [00:00<00:00,  4.28it/s, best loss: 0.1777777777777778]\n",
            "100%|██████████| 1/1 [00:01<00:00,  1.76s/it, best loss: 0.1777777777777778]\n",
            "100%|██████████| 1/1 [00:00<00:00,  6.11it/s, best loss: 0.1777777777777778]\n",
            "100%|██████████| 1/1 [00:01<00:00,  1.66s/it, best loss: 0.1777777777777778]\n",
            "  0%|          | 0/1 [00:00<?, ?it/s, best loss: ?]"
          ],
          "name": "stdout"
        },
        {
          "output_type": "stream",
          "text": [
            "/usr/local/lib/python3.6/dist-packages/sklearn/ensemble/_gb.py:1342: FutureWarning: The parameter 'presort' is deprecated and has no effect. It will be removed in v0.24. You can suppress this warning by not passing any value to the 'presort' parameter. We also recommend using HistGradientBoosting models instead.\n",
            "  FutureWarning)\n",
            "\n"
          ],
          "name": "stderr"
        },
        {
          "output_type": "stream",
          "text": [
            "100%|██████████| 1/1 [00:00<00:00,  5.97it/s, best loss: 0.1777777777777778]\n",
            "100%|██████████| 1/1 [00:03<00:00,  3.71s/it, best loss: 0.1777777777777778]\n",
            "100%|██████████| 1/1 [00:01<00:00,  1.79s/it, best loss: 0.1777777777777778]\n",
            "100%|██████████| 1/1 [00:00<00:00,  4.87it/s, best loss: 0.1777777777777778]\n",
            "100%|██████████| 1/1 [00:00<00:00,  6.47it/s, best loss: 0.1777777777777778]\n",
            "  0%|          | 0/1 [00:00<?, ?it/s, best loss: ?]"
          ],
          "name": "stdout"
        },
        {
          "output_type": "stream",
          "text": [
            "/usr/local/lib/python3.6/dist-packages/sklearn/ensemble/_gb.py:1342: FutureWarning: The parameter 'presort' is deprecated and has no effect. It will be removed in v0.24. You can suppress this warning by not passing any value to the 'presort' parameter. We also recommend using HistGradientBoosting models instead.\n",
            "  FutureWarning)\n",
            "\n"
          ],
          "name": "stderr"
        },
        {
          "output_type": "stream",
          "text": [
            "100%|██████████| 1/1 [00:00<00:00,  1.62it/s, best loss: 0.1777777777777778]\n",
            "100%|██████████| 1/1 [00:04<00:00,  4.17s/it, best loss: 0.1777777777777778]\n",
            "100%|██████████| 1/1 [00:00<00:00,  6.42it/s, best loss: 0.1777777777777778]\n",
            "100%|██████████| 1/1 [00:30<00:00, 30.18s/it, best loss: 0.1777777777777778]\n",
            "100%|██████████| 1/1 [00:00<00:00,  1.86it/s, best loss: 0.1777777777777778]\n"
          ],
          "name": "stdout"
        }
      ]
    },
    {
      "cell_type": "code",
      "metadata": {
        "id": "8aw5pF1e884J"
      },
      "source": [
        "acc = model.score(X_test, y_test)"
      ],
      "execution_count": null,
      "outputs": []
    },
    {
      "cell_type": "code",
      "metadata": {
        "id": "Wgiyk9dt881N",
        "outputId": "865819eb-a14c-4be5-8b78-8b7a539c074c",
        "colab": {
          "base_uri": "https://localhost:8080/",
          "height": 34
        }
      },
      "source": [
        "print(f'The testing accuracy: {acc}')"
      ],
      "execution_count": null,
      "outputs": [
        {
          "output_type": "stream",
          "text": [
            "The testing accuracy: 0.7333333333333333\n"
          ],
          "name": "stdout"
        }
      ]
    },
    {
      "cell_type": "code",
      "metadata": {
        "id": "znMWHGD788wZ",
        "outputId": "7cbdbb33-39c4-4288-d868-00430261d2c9",
        "colab": {
          "base_uri": "https://localhost:8080/",
          "height": 153
        }
      },
      "source": [
        "print(model.best_model())"
      ],
      "execution_count": null,
      "outputs": [
        {
          "output_type": "stream",
          "text": [
            "{'learner': ExtraTreesClassifier(bootstrap=False, ccp_alpha=0.0, class_weight=None,\n",
            "                     criterion='gini', max_depth=None, max_features=None,\n",
            "                     max_leaf_nodes=None, max_samples=None,\n",
            "                     min_impurity_decrease=0.0, min_impurity_split=None,\n",
            "                     min_samples_leaf=1, min_samples_split=2,\n",
            "                     min_weight_fraction_leaf=0.0, n_estimators=230, n_jobs=1,\n",
            "                     oob_score=False, random_state=2, verbose=False,\n",
            "                     warm_start=False), 'preprocs': (), 'ex_preprocs': ()}\n"
          ],
          "name": "stdout"
        }
      ]
    },
    {
      "cell_type": "code",
      "metadata": {
        "id": "r7JIR0xzwp08"
      },
      "source": [
        ""
      ],
      "execution_count": null,
      "outputs": []
    },
    {
      "cell_type": "code",
      "metadata": {
        "id": "AdrRRbTtCctL"
      },
      "source": [
        "import tensorflow as tf\n",
        "from tensorflow.keras.models import Sequential\n",
        "from tensorflow.keras.layers import Dense,Dropout\n",
        "from tensorflow.keras.callbacks import ModelCheckpoint"
      ],
      "execution_count": null,
      "outputs": []
    },
    {
      "cell_type": "code",
      "metadata": {
        "id": "VPfjghMUCcxU"
      },
      "source": [
        "nn = Sequential()\n",
        "nn.add(Dense(128,activation='relu',input_shape=(7,)))\n",
        "nn.add(Dropout(0.4))\n",
        "nn.add(Dense(256,activation='relu'))\n",
        "nn.add(Dropout(0.4))\n",
        "nn.add(Dense(512,activation='relu'))\n",
        "nn.add(Dropout(0.4))\n",
        "nn.add(Dense(1024,activation='relu'))\n",
        "nn.add(Dropout(0.4))\n",
        "nn.add(Dense(512,activation='relu'))\n",
        "nn.add(Dropout(0.4))\n",
        "nn.add(Dense(256,activation='relu'))\n",
        "nn.add(Dropout(0.4))\n",
        "nn.add(Dense(128,activation='relu'))\n",
        "nn.add(Dropout(0.4))\n",
        "nn.add(Dense(1,activation='sigmoid'))\n",
        "\n",
        "nn.compile(optimizer='adam',metrics=['acc'],loss='binary_crossentropy')\n",
        "\n",
        "history = nn.fit(X_train,y_train,\n",
        "                epochs=50,\n",
        "                validation_data=(X_test,y_test)\n",
        "                )"
      ],
      "execution_count": null,
      "outputs": []
    },
    {
      "cell_type": "code",
      "metadata": {
        "id": "wTdOak9JCc0H"
      },
      "source": [
        "from sklearn.linear_model import LogisticRegression,SGDClassifier\n",
        "from sklearn.neighbors import KNeighborsClassifier\n",
        "from sklearn.tree import DecisionTreeClassifier\n",
        "from sklearn.ensemble import RandomForestClassifier,AdaBoostClassifier\n",
        "from sklearn.svm import SVC\n",
        "from xgboost import XGBClassifier\n",
        "from catboost import CatBoostClassifier\n",
        "from sklearn.metrics import accuracy_score\n",
        "import joblib"
      ],
      "execution_count": null,
      "outputs": []
    },
    {
      "cell_type": "code",
      "metadata": {
        "id": "zKScOC5CCc7N",
        "outputId": "ed1d20f3-7d43-41c7-d0d7-e6e48d0a8fd4",
        "colab": {
          "base_uri": "https://localhost:8080/",
          "height": 561
        }
      },
      "source": [
        "models= [['Logistic Regression: ',LogisticRegression()],\n",
        "        ['KNearest Neighbor: ',KNeighborsClassifier()],\n",
        "        ['Decision Tree Classifier: ',DecisionTreeClassifier()],\n",
        "        ['Random Forest Classifier: ',RandomForestClassifier()],\n",
        "        ['Ada Boost: ',AdaBoostClassifier()],\n",
        "        ['SVM: ',SVC()],\n",
        "        ['XG Boost:',XGBClassifier()],\n",
        "        ['Cat Boost',CatBoostClassifier(logging_level='Silent')]]\n",
        "\n",
        "for name,model in models:\n",
        "    model = model\n",
        "    model.fit(X_train,y_train)\n",
        "\n",
        "    # Save model\n",
        "    filename = f'{name}_model.pkl'\n",
        "    model_file = open(filename, \"wb\")\n",
        "    joblib.dump(model, model_file)\n",
        "    model_file.close()\n",
        "\n",
        "    # Accuracy\n",
        "    print(name)\n",
        "    print('Validation Acuuracy: ',accuracy_score(y_test,model.predict(X_test)))\n",
        "    print('Training Accuracy: ',accuracy_score(y_train,model.predict(X_train)))\n",
        "    print('############################################')"
      ],
      "execution_count": null,
      "outputs": [
        {
          "output_type": "stream",
          "text": [
            "Logistic Regression: \n",
            "Validation Acuuracy:  0.76\n",
            "Training Accuracy:  0.71875\n",
            "############################################\n",
            "KNearest Neighbor: \n",
            "Validation Acuuracy:  0.72\n",
            "Training Accuracy:  0.7321428571428571\n",
            "############################################\n",
            "Decision Tree Classifier: \n",
            "Validation Acuuracy:  0.7466666666666667\n",
            "Training Accuracy:  1.0\n",
            "############################################\n",
            "Random Forest Classifier: \n",
            "Validation Acuuracy:  0.76\n",
            "Training Accuracy:  1.0\n",
            "############################################\n",
            "Ada Boost: \n",
            "Validation Acuuracy:  0.76\n",
            "Training Accuracy:  0.8571428571428571\n",
            "############################################\n",
            "SVM: \n",
            "Validation Acuuracy:  0.7333333333333333\n",
            "Training Accuracy:  0.6607142857142857\n",
            "############################################\n",
            "XG Boost:\n",
            "Validation Acuuracy:  0.7866666666666666\n",
            "Training Accuracy:  0.9508928571428571\n",
            "############################################\n",
            "Cat Boost\n",
            "Validation Acuuracy:  0.8\n",
            "Training Accuracy:  0.9910714285714286\n",
            "############################################\n"
          ],
          "name": "stdout"
        }
      ]
    },
    {
      "cell_type": "code",
      "metadata": {
        "id": "Yi1fOs12CdA-",
        "outputId": "e511d095-d04d-4481-c3e3-65c1719b91a1",
        "colab": {
          "base_uri": "https://localhost:8080/",
          "height": 68
        }
      },
      "source": [
        "data_df.columns"
      ],
      "execution_count": null,
      "outputs": [
        {
          "output_type": "execute_result",
          "data": {
            "text/plain": [
              "Index(['age', 'anaemia', 'creat_phos', 'diabetes', 'eject_fract', 'hbp',\n",
              "       'platelets', 'ser_creat', 'ser_sod', 'sex', 'smoking', 'DEATH_EVENT'],\n",
              "      dtype='object')"
            ]
          },
          "metadata": {
            "tags": []
          },
          "execution_count": 38
        }
      ]
    },
    {
      "cell_type": "code",
      "metadata": {
        "id": "4Nv8moB2Cc_H"
      },
      "source": [
        ""
      ],
      "execution_count": null,
      "outputs": []
    },
    {
      "cell_type": "code",
      "metadata": {
        "id": "kNQzlXuaCc37"
      },
      "source": [
        ""
      ],
      "execution_count": null,
      "outputs": []
    }
  ]
}